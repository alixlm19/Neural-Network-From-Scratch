{
 "cells": [
  {
   "cell_type": "code",
   "execution_count": 19,
   "metadata": {},
   "outputs": [],
   "source": [
    "import numpy as np\n",
    "import keras\n",
    "\n",
    "from typing import Callable\n"
   ]
  },
  {
   "cell_type": "code",
   "execution_count": 25,
   "metadata": {},
   "outputs": [],
   "source": [
    "def relu(x: np.ndarray) -> float | np.ndarray:\n",
    "    return np.max(0, x)\n",
    "\n",
    "\n",
    "def sigmoid(x: np.ndarray) -> float | np.ndarray:\n",
    "    return 1 / (1 + np.exp(-x))\n"
   ]
  },
  {
   "cell_type": "code",
   "execution_count": 82,
   "metadata": {},
   "outputs": [],
   "source": [
    "class Layer:\n",
    "\n",
    "    def __init__(self, shape:list[int, int] | int, initial_value: float = 0.0) -> None:\n",
    "\n",
    "        self.__shape = shape\n",
    "\n",
    "        self.__values: np.ndarray = np.zeros(\n",
    "            shape = self.__shape,\n",
    "            dtype = np.float32\n",
    "        ) + initial_value\n",
    "\n",
    "        self.__weights: np.ndarray = None\n",
    "\n",
    "    @property\n",
    "    def shape(self) -> list[int]:\n",
    "        return self.__shape"
   ]
  },
  {
   "cell_type": "code",
   "execution_count": 83,
   "metadata": {},
   "outputs": [],
   "source": [
    "class Dense(Layer):\n",
    "\n",
    "    def __init__(self, units: int, initial_value: float = 0.0, activation: str | Callable = \"relu\") -> np.ndarray:\n",
    "        super().__init__(units, initial_value)\n",
    "\n",
    "        self.__activation: Callable = self.set_activation(activation)\n",
    "\n",
    "    def set_activation(self, activation: str | Callable) -> None:\n",
    "        if isinstance(activation, str):\n",
    "            match activation.lower():\n",
    "                case \"relu\":\n",
    "                    self.__activation = relu\n",
    "                case \"sigmoid\":\n",
    "                    self.__activation = sigmoid\n",
    "                case \"linear\":\n",
    "                    self.__activation = lambda x: x\n",
    "                case _:\n",
    "                    raise ValueError(\n",
    "                        f\"Dense layer does not support activation function: {activation}\")\n",
    "        elif callable(activation):\n",
    "            self.__activation = activation\n",
    "        else:\n",
    "            raise ValueError(\n",
    "                \"Argument `activation` must be of type `str` or `function`.\")\n",
    "\n",
    "    def update(self, values: np.ndarray) -> None:\n",
    "        self.__values = self.__activation(values)\n",
    "\n",
    "    def set_weights(self, shape: list[int, int], initial_value: float = 0.0) -> None:\n",
    "        self.__weights = np.zeros(\n",
    "            shape,\n",
    "            dtype = np.float32\n",
    "        ) + initial_value\n",
    "\n",
    "    @property\n",
    "    def info(self):\n",
    "        if self.__weights is None:\n",
    "            weight_shape: int  = 0\n",
    "        else:\n",
    "            weight_shape: list[int, int] = self.__weights.shape\n",
    "\n",
    "        return f\"Dense Layer with {self.shape} units and weight matrix of shape {weight_shape}\"\n"
   ]
  },
  {
   "cell_type": "code",
   "execution_count": 84,
   "metadata": {},
   "outputs": [],
   "source": [
    "class FFNN:\n",
    "    \"\"\"Naive implementation of a feed-forward multi-layer perceptron (neural network)\"\"\"\n",
    "    \n",
    "    def __init__(self, layers: Layer) -> None:\n",
    "        self.__layers: list[Layer] = layers\n",
    "        \n",
    "        self.initialize_weights()\n",
    "\n",
    "    def initialize_weights(self):\n",
    "        for i in range(1, len(self.__layers)):\n",
    "            prev_layer: Layer = self.__layers[i - 1]\n",
    "            curr_layer: Layer = self.__layers[i]\n",
    "\n",
    "            shape = [prev_layer.shape, curr_layer.shape]\n",
    "            prev_layer.set_weights(shape)\n",
    "\n",
    "    @property\n",
    "    def info(self):\n",
    "        for layer in self.__layers:\n",
    "            print(layer.info)"
   ]
  },
  {
   "cell_type": "code",
   "execution_count": 85,
   "metadata": {},
   "outputs": [
    {
     "name": "stdout",
     "output_type": "stream",
     "text": [
      "Dense Layer with 10 units and weight matrix of shape (10, 10)\n",
      "Dense Layer with 10 units and weight matrix of shape (10, 10)\n"
     ]
    },
    {
     "ename": "AttributeError",
     "evalue": "'Dense' object has no attribute '_Dense__weights'",
     "output_type": "error",
     "traceback": [
      "\u001b[1;31m---------------------------------------------------------------------------\u001b[0m",
      "\u001b[1;31mAttributeError\u001b[0m                            Traceback (most recent call last)",
      "Cell \u001b[1;32mIn[85], line 5\u001b[0m\n\u001b[0;32m      1\u001b[0m FFNN([\n\u001b[0;32m      2\u001b[0m     Dense(\u001b[39m10\u001b[39;49m, activation\u001b[39m=\u001b[39;49m\u001b[39m\"\u001b[39;49m\u001b[39mlinear\u001b[39;49m\u001b[39m\"\u001b[39;49m),\n\u001b[0;32m      3\u001b[0m     Dense(\u001b[39m10\u001b[39;49m, activation\u001b[39m=\u001b[39;49m\u001b[39m\"\u001b[39;49m\u001b[39mrelu\u001b[39;49m\u001b[39m\"\u001b[39;49m),\n\u001b[0;32m      4\u001b[0m     Dense(\u001b[39m10\u001b[39;49m, activation\u001b[39m=\u001b[39;49m\u001b[39m\"\u001b[39;49m\u001b[39mrelu\u001b[39;49m\u001b[39m\"\u001b[39;49m)\n\u001b[1;32m----> 5\u001b[0m ])\u001b[39m.\u001b[39;49minfo\n",
      "Cell \u001b[1;32mIn[84], line 20\u001b[0m, in \u001b[0;36mFFNN.info\u001b[1;34m(self)\u001b[0m\n\u001b[0;32m     17\u001b[0m \u001b[39m@property\u001b[39m\n\u001b[0;32m     18\u001b[0m \u001b[39mdef\u001b[39;00m \u001b[39minfo\u001b[39m(\u001b[39mself\u001b[39m):\n\u001b[0;32m     19\u001b[0m     \u001b[39mfor\u001b[39;00m layer \u001b[39min\u001b[39;00m \u001b[39mself\u001b[39m\u001b[39m.\u001b[39m__layers:\n\u001b[1;32m---> 20\u001b[0m         \u001b[39mprint\u001b[39m(layer\u001b[39m.\u001b[39;49minfo)\n",
      "Cell \u001b[1;32mIn[83], line 37\u001b[0m, in \u001b[0;36mDense.info\u001b[1;34m(self)\u001b[0m\n\u001b[0;32m     35\u001b[0m \u001b[39m@property\u001b[39m\n\u001b[0;32m     36\u001b[0m \u001b[39mdef\u001b[39;00m \u001b[39minfo\u001b[39m(\u001b[39mself\u001b[39m):\n\u001b[1;32m---> 37\u001b[0m     \u001b[39mif\u001b[39;00m \u001b[39mself\u001b[39;49m\u001b[39m.\u001b[39;49m__weights \u001b[39mis\u001b[39;00m \u001b[39mNone\u001b[39;00m:\n\u001b[0;32m     38\u001b[0m         weight_shape: \u001b[39mint\u001b[39m  \u001b[39m=\u001b[39m \u001b[39m0\u001b[39m\n\u001b[0;32m     39\u001b[0m     \u001b[39melse\u001b[39;00m:\n",
      "\u001b[1;31mAttributeError\u001b[0m: 'Dense' object has no attribute '_Dense__weights'"
     ]
    }
   ],
   "source": [
    "FFNN([\n",
    "    Dense(10, activation=\"linear\"),\n",
    "    Dense(10, activation=\"relu\"),\n",
    "    Dense(10, activation=\"relu\")\n",
    "]).info"
   ]
  }
 ],
 "metadata": {
  "kernelspec": {
   "display_name": "Python 3",
   "language": "python",
   "name": "python3"
  },
  "language_info": {
   "codemirror_mode": {
    "name": "ipython",
    "version": 3
   },
   "file_extension": ".py",
   "mimetype": "text/x-python",
   "name": "python",
   "nbconvert_exporter": "python",
   "pygments_lexer": "ipython3",
   "version": "3.10.9"
  },
  "orig_nbformat": 4,
  "vscode": {
   "interpreter": {
    "hash": "2a31b60457b865fe5ecd716f34cfdb351e06bb87379ffb78a282292fc8952d41"
   }
  }
 },
 "nbformat": 4,
 "nbformat_minor": 2
}
